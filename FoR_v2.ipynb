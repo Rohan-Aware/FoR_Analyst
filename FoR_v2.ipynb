{
 "cells": [
  {
   "cell_type": "code",
   "execution_count": 1,
   "id": "e12f2134-ab57-409c-92d5-79503cf7ea9e",
   "metadata": {},
   "outputs": [
    {
     "name": "stdout",
     "output_type": "stream",
     "text": [
      "MFCC features shape: (40, 13)\n",
      "Labels shape: (40,)\n"
     ]
    }
   ],
   "source": [
    "import os\n",
    "import librosa\n",
    "import numpy as np\n",
    "\n",
    "def extract_mfcc_features(file_path, sample_rate=16000, n_mfcc=13):\n",
    "    try:\n",
    "        audio_data, sr = librosa.load(file_path, sr=sample_rate)\n",
    "        mfcc = librosa.feature.mfcc(y=audio_data, sr=sr, n_mfcc=n_mfcc)\n",
    "        return np.mean(mfcc.T, axis=0)  #  mean of MFCC features ghetoy feature size reduce karayla\n",
    "    except Exception as e:\n",
    "        print(f\"Error processing file {file_path}: {e}\")\n",
    "        return None\n",
    "\n",
    "def process_dataset(dataset_path, sample_rate=16000, n_mfcc=13):\n",
    "    mfcc_features = []\n",
    "    labels = []\n",
    "    \n",
    "    for label in ['real', 'fake']:\n",
    "        folder_path = os.path.join(dataset_path, label)\n",
    "        \n",
    "        # Folder check kelay ithe prsent ahe ki nahii\n",
    "        # Tuzya system madhe vegla asu shakta so jrr directory error ala tula trr folder path copy karun tuza wala takunchhh run karr\n",
    "        if not os.path.exists(folder_path):\n",
    "            print(f\"Directory {folder_path} does not exist.\")\n",
    "            continue\n",
    "        \n",
    "        for file_name in os.listdir(folder_path):\n",
    "            if file_name.endswith('.wav'): # Apan ata sathi faktt .wav file extention accept karnar ahee mp3 chalnar nahi te apan future advances kiva enhancements mhnun theu\n",
    "                file_path = os.path.join(folder_path, file_name)\n",
    "                mfcc = extract_mfcc_features(file_path, sample_rate, n_mfcc)\n",
    "                \n",
    "                if mfcc is not None:\n",
    "                    mfcc_features.append(mfcc)\n",
    "                    labels.append(1 if label == 'real' else 0)  # 1 = real sathi, 0 = fake sathi\n",
    "    \n",
    "    mfcc_features = np.array(mfcc_features)\n",
    "    labels = np.array(labels)\n",
    "    \n",
    "    return mfcc_features, labels\n",
    "\n",
    "# Dataset path...Ithe change kar jrr tula directory error aala trr\n",
    "dataset_path = 'FoR Dataset/training'\n",
    "\n",
    "# Process the dataset\n",
    "X, y = process_dataset(dataset_path)\n",
    "\n",
    "# Output shapes... He 2 vectors use karu shakte analysis n train la\n",
    "print(f\"MFCC features shape: {X.shape}\")\n",
    "print(f\"Labels shape: {y.shape}\")\n"
   ]
  },
  {
   "cell_type": "code",
   "execution_count": null,
   "id": "0fff9375-3f40-4fae-b906-a10730386d70",
   "metadata": {},
   "outputs": [],
   "source": []
  }
 ],
 "metadata": {
  "kernelspec": {
   "display_name": "Python 3 (ipykernel)",
   "language": "python",
   "name": "python3"
  },
  "language_info": {
   "codemirror_mode": {
    "name": "ipython",
    "version": 3
   },
   "file_extension": ".py",
   "mimetype": "text/x-python",
   "name": "python",
   "nbconvert_exporter": "python",
   "pygments_lexer": "ipython3",
   "version": "3.11.5"
  }
 },
 "nbformat": 4,
 "nbformat_minor": 5
}
