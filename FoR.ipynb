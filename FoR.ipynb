{
 "cells": [
  {
   "cell_type": "code",
   "execution_count": 1,
   "id": "51fbc15f-0973-4aa8-9c72-bb2f4aed9edc",
   "metadata": {},
   "outputs": [
    {
     "name": "stdout",
     "output_type": "stream",
     "text": [
      "Defaulting to user installation because normal site-packages is not writeable\n",
      "Requirement already satisfied: librosa in c:\\users\\rohan aware\\appdata\\roaming\\python\\python311\\site-packages (0.10.2.post1)\n",
      "Requirement already satisfied: audioread>=2.1.9 in c:\\users\\rohan aware\\appdata\\roaming\\python\\python311\\site-packages (from librosa) (3.0.1)\n",
      "Requirement already satisfied: numpy!=1.22.0,!=1.22.1,!=1.22.2,>=1.20.3 in c:\\programdata\\anaconda3\\lib\\site-packages (from librosa) (1.24.3)\n",
      "Requirement already satisfied: scipy>=1.2.0 in c:\\programdata\\anaconda3\\lib\\site-packages (from librosa) (1.11.1)\n",
      "Requirement already satisfied: scikit-learn>=0.20.0 in c:\\programdata\\anaconda3\\lib\\site-packages (from librosa) (1.3.0)\n",
      "Requirement already satisfied: joblib>=0.14 in c:\\programdata\\anaconda3\\lib\\site-packages (from librosa) (1.2.0)\n",
      "Requirement already satisfied: decorator>=4.3.0 in c:\\programdata\\anaconda3\\lib\\site-packages (from librosa) (5.1.1)\n",
      "Requirement already satisfied: numba>=0.51.0 in c:\\programdata\\anaconda3\\lib\\site-packages (from librosa) (0.57.1)\n",
      "Requirement already satisfied: soundfile>=0.12.1 in c:\\users\\rohan aware\\appdata\\roaming\\python\\python311\\site-packages (from librosa) (0.12.1)\n",
      "Requirement already satisfied: pooch>=1.1 in c:\\users\\rohan aware\\appdata\\roaming\\python\\python311\\site-packages (from librosa) (1.8.2)\n",
      "Requirement already satisfied: soxr>=0.3.2 in c:\\users\\rohan aware\\appdata\\roaming\\python\\python311\\site-packages (from librosa) (0.5.0.post1)\n",
      "Requirement already satisfied: typing-extensions>=4.1.1 in c:\\programdata\\anaconda3\\lib\\site-packages (from librosa) (4.7.1)\n",
      "Requirement already satisfied: lazy-loader>=0.1 in c:\\programdata\\anaconda3\\lib\\site-packages (from librosa) (0.2)\n",
      "Requirement already satisfied: msgpack>=1.0 in c:\\programdata\\anaconda3\\lib\\site-packages (from librosa) (1.0.3)\n",
      "Requirement already satisfied: llvmlite<0.41,>=0.40.0dev0 in c:\\programdata\\anaconda3\\lib\\site-packages (from numba>=0.51.0->librosa) (0.40.0)\n",
      "Requirement already satisfied: platformdirs>=2.5.0 in c:\\programdata\\anaconda3\\lib\\site-packages (from pooch>=1.1->librosa) (3.10.0)\n",
      "Requirement already satisfied: packaging>=20.0 in c:\\programdata\\anaconda3\\lib\\site-packages (from pooch>=1.1->librosa) (23.1)\n",
      "Requirement already satisfied: requests>=2.19.0 in c:\\programdata\\anaconda3\\lib\\site-packages (from pooch>=1.1->librosa) (2.31.0)\n",
      "Requirement already satisfied: threadpoolctl>=2.0.0 in c:\\programdata\\anaconda3\\lib\\site-packages (from scikit-learn>=0.20.0->librosa) (2.2.0)\n",
      "Requirement already satisfied: cffi>=1.0 in c:\\programdata\\anaconda3\\lib\\site-packages (from soundfile>=0.12.1->librosa) (1.15.1)\n",
      "Requirement already satisfied: pycparser in c:\\programdata\\anaconda3\\lib\\site-packages (from cffi>=1.0->soundfile>=0.12.1->librosa) (2.21)\n",
      "Requirement already satisfied: charset-normalizer<4,>=2 in c:\\programdata\\anaconda3\\lib\\site-packages (from requests>=2.19.0->pooch>=1.1->librosa) (2.0.4)\n",
      "Requirement already satisfied: idna<4,>=2.5 in c:\\programdata\\anaconda3\\lib\\site-packages (from requests>=2.19.0->pooch>=1.1->librosa) (3.4)\n",
      "Requirement already satisfied: urllib3<3,>=1.21.1 in c:\\programdata\\anaconda3\\lib\\site-packages (from requests>=2.19.0->pooch>=1.1->librosa) (1.26.16)\n",
      "Requirement already satisfied: certifi>=2017.4.17 in c:\\programdata\\anaconda3\\lib\\site-packages (from requests>=2.19.0->pooch>=1.1->librosa) (2024.8.30)\n",
      "Note: you may need to restart the kernel to use updated packages.\n"
     ]
    }
   ],
   "source": [
    "pip install librosa"
   ]
  },
  {
   "cell_type": "code",
   "execution_count": 17,
   "id": "b5aff216-6251-4f54-8632-c76c579270c2",
   "metadata": {},
   "outputs": [
    {
     "name": "stdout",
     "output_type": "stream",
     "text": [
      "Loaded RealAudio file1.wav: Audio Data Shape: (58781,), Sample Rate: 22050\n",
      "Loaded RealAudio file10.wav: Audio Data Shape: (78000,), Sample Rate: 16000\n",
      "Loaded RealAudio file11.wav: Audio Data Shape: (39920,), Sample Rate: 16000\n",
      "Loaded RealAudio file12.wav: Audio Data Shape: (434738,), Sample Rate: 44100\n",
      "Loaded RealAudio file13.wav: Audio Data Shape: (116125,), Sample Rate: 22050\n",
      "Loaded RealAudio file14.wav: Audio Data Shape: (220979,), Sample Rate: 44100\n",
      "Loaded RealAudio file15.wav: Audio Data Shape: (76400,), Sample Rate: 16000\n",
      "Loaded RealAudio file16.wav: Audio Data Shape: (116400,), Sample Rate: 16000\n",
      "Loaded RealAudio file17.wav: Audio Data Shape: (36081,), Sample Rate: 16000\n",
      "Loaded RealAudio file19.wav: Audio Data Shape: (57344,), Sample Rate: 16000\n",
      "Loaded RealAudio file2.wav: Audio Data Shape: (165396,), Sample Rate: 44100\n",
      "Loaded RealAudio file23.wav: Audio Data Shape: (152989,), Sample Rate: 22050\n",
      "Loaded RealAudio file24.wav: Audio Data Shape: (43440,), Sample Rate: 16000\n",
      "Loaded RealAudio file25.wav: Audio Data Shape: (109725,), Sample Rate: 22050\n",
      "Loaded RealAudio file27.wav: Audio Data Shape: (39280,), Sample Rate: 16000\n",
      "Loaded RealAudio file28.wav: Audio Data Shape: (48000,), Sample Rate: 16000\n",
      "Loaded RealAudio file3.wav: Audio Data Shape: (439556,), Sample Rate: 44100\n",
      "Loaded RealAudio file6.wav: Audio Data Shape: (71069,), Sample Rate: 22050\n",
      "Loaded RealAudio file7.wav: Audio Data Shape: (312303,), Sample Rate: 44100\n",
      "Loaded RealAudio file9.wav: Audio Data Shape: (86000,), Sample Rate: 16000\n",
      "Loaded FakeAudio file102.wav: Audio Data Shape: (31488,), Sample Rate: 22050\n",
      "Loaded FakeAudio file104.wav: Audio Data Shape: (36840,), Sample Rate: 24000\n",
      "Loaded FakeAudio file105.wav: Audio Data Shape: (24240,), Sample Rate: 24000\n",
      "Loaded FakeAudio file111.wav: Audio Data Shape: (50400,), Sample Rate: 24000\n",
      "Loaded FakeAudio file118.wav: Audio Data Shape: (38760,), Sample Rate: 24000\n",
      "Loaded FakeAudio file12.wav: Audio Data Shape: (48896,), Sample Rate: 22050\n",
      "Loaded FakeAudio file127.wav: Audio Data Shape: (47040,), Sample Rate: 24000\n",
      "Loaded FakeAudio file129.wav: Audio Data Shape: (43776,), Sample Rate: 22050\n",
      "Loaded FakeAudio file135.wav: Audio Data Shape: (54840,), Sample Rate: 24000\n",
      "Loaded FakeAudio file138.wav: Audio Data Shape: (40704,), Sample Rate: 22050\n",
      "Loaded FakeAudio file150.wav: Audio Data Shape: (57088,), Sample Rate: 22050\n",
      "Loaded FakeAudio file155.wav: Audio Data Shape: (58112,), Sample Rate: 22050\n",
      "Loaded FakeAudio file16.wav: Audio Data Shape: (53880,), Sample Rate: 24000\n",
      "Loaded FakeAudio file172.wav: Audio Data Shape: (25320,), Sample Rate: 24000\n",
      "Loaded FakeAudio file55.wav: Audio Data Shape: (34440,), Sample Rate: 24000\n",
      "Loaded FakeAudio file67.wav: Audio Data Shape: (44880,), Sample Rate: 24000\n",
      "Loaded FakeAudio file7.wav: Audio Data Shape: (56064,), Sample Rate: 22050\n",
      "Loaded FakeAudio file83.wav: Audio Data Shape: (44760,), Sample Rate: 24000\n",
      "Loaded FakeAudio file93.wav: Audio Data Shape: (45824,), Sample Rate: 22050\n",
      "Loaded FakeAudio file95.wav: Audio Data Shape: (36608,), Sample Rate: 22050\n"
     ]
    }
   ],
   "source": [
    "import os\n",
    "import librosa\n",
    "real_directory_path = 'FoR Dataset/training/real'\n",
    "fake_directory_path = 'FoR Dataset/training/fake'\n",
    "real_audio_data_list = []\n",
    "real_sample_rate_list = []\n",
    "fake_audio_data_list = []\n",
    "fake_sample_rate_list = []\n",
    "\n",
    "for filename1 in os.listdir(real_directory_path):\n",
    "    if filename1.endswith('.wav'):  \n",
    "        file_path1 = os.path.join(real_directory_path, filename1)\n",
    "        real_audio_data, real_sample_rate = librosa.load(file_path1, sr=None)\n",
    "        real_audio_data_list.append(real_audio_data)\n",
    "        real_sample_rate_list.append(real_sample_rate)\n",
    "        print(f'Loaded RealAudio {filename1}: Audio Data Shape: {real_audio_data.shape}, Sample Rate: {real_sample_rate}')\n",
    "\n",
    "for filename2 in os.listdir(fake_directory_path):\n",
    "    if filename2.endswith('.wav'):  \n",
    "        file_path2 = os.path.join(fake_directory_path, filename2)\n",
    "        fake_audio_data, fake_sample_rate = librosa.load(file_path2, sr=None)\n",
    "        fake_audio_data_list.append(fake_audio_data)\n",
    "        fake_sample_rate_list.append(fake_sample_rate)\n",
    "        print(f'Loaded FakeAudio {filename2}: Audio Data Shape: {fake_audio_data.shape}, Sample Rate: {fake_sample_rate}')"
   ]
  },
  {
   "cell_type": "code",
   "execution_count": 19,
   "id": "fc613f02-b0e4-4acf-903c-d44976b8d162",
   "metadata": {},
   "outputs": [],
   "source": [
    "import numpy as np"
   ]
  },
  {
   "cell_type": "code",
   "execution_count": 21,
   "id": "a16940f8-b307-4003-b0cd-f43985b7265d",
   "metadata": {},
   "outputs": [
    {
     "name": "stdout",
     "output_type": "stream",
     "text": [
      "MFCC features shape: (40, 13)\n",
      "Labels shape: (40,)\n"
     ]
    }
   ],
   "source": [
    "def process_dataset(dataset_path, sample_rate=16000, n_mfcc=13):\n",
    "\n",
    "    mfcc_features = []\n",
    "    labels = []\n",
    "    \n",
    "    for label in ['real', 'fake']:\n",
    "        folder_path = os.path.join(dataset_path, label)\n",
    "        for file_name in os.listdir(folder_path):\n",
    "            file_path = os.path.join(folder_path, file_name)\n",
    "            \n",
    "            \n",
    "            mfcc = extract_mfcc_features(file_path, sample_rate, n_mfcc)\n",
    "            \n",
    "            if mfcc is not None:\n",
    "                mfcc_features.append(mfcc)\n",
    "                labels.append(1 if label == 'real' else 0)  # 1 = real, 0 = fake\n",
    "    \n",
    "    mfcc_features = np.array(mfcc_features)\n",
    "    labels = np.array(labels)\n",
    "    \n",
    "    return mfcc_features, labels\n",
    "\n",
    "dataset_path = 'FoR Dataset/training'  \n",
    "X, y = process_dataset(dataset_path)\n",
    "\n",
    "print(f\"MFCC features shape: {X.shape}\")\n",
    "print(f\"Labels shape: {y.shape}\")"
   ]
  },
  {
   "cell_type": "code",
   "execution_count": 23,
   "id": "292a09f1-717f-4dfe-9ad3-ff8db5ef8ac6",
   "metadata": {},
   "outputs": [],
   "source": [
    "np.savez('mfcc_features.npz', X=X, y=y)"
   ]
  },
  {
   "cell_type": "code",
   "execution_count": null,
   "id": "da58f6a7-fd2b-4261-939a-bb321eb50445",
   "metadata": {},
   "outputs": [],
   "source": []
  }
 ],
 "metadata": {
  "kernelspec": {
   "display_name": "Python 3 (ipykernel)",
   "language": "python",
   "name": "python3"
  },
  "language_info": {
   "codemirror_mode": {
    "name": "ipython",
    "version": 3
   },
   "file_extension": ".py",
   "mimetype": "text/x-python",
   "name": "python",
   "nbconvert_exporter": "python",
   "pygments_lexer": "ipython3",
   "version": "3.11.5"
  }
 },
 "nbformat": 4,
 "nbformat_minor": 5
}
